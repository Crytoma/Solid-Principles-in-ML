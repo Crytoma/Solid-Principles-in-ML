{
 "cells": [
  {
   "cell_type": "code",
   "execution_count": null,
   "metadata": {},
   "outputs": [],
   "source": [
    "# :: 10th January 2023 ::"
   ]
  },
  {
   "attachments": {},
   "cell_type": "markdown",
   "metadata": {},
   "source": [
    "Interface Segregation Principle:\n",
    "- Client code should not depend on methods it does not use:\n",
    "  - If you have a class that inherits another class you do not want the child class to inherit methods it does not use."
   ]
  },
  {
   "attachments": {},
   "cell_type": "markdown",
   "metadata": {},
   "source": [
    "ISP Intuition:\n",
    "- It is better to have multiple specific interfaces rather than a single general interface.\n",
    "  - You want to have abstract classes that are thinner so the implementations have methods that are actually used."
   ]
  },
  {
   "attachments": {},
   "cell_type": "markdown",
   "metadata": {},
   "source": [
    "Spotting ISP Violations:\n",
    "- Do subclasses implement abstract methods they don't use?\n",
    "  - Any methods really."
   ]
  },
  {
   "attachments": {},
   "cell_type": "markdown",
   "metadata": {},
   "source": [
    "ISP Violation Problems\n",
    "- Coupled code, tied together\n",
    "- Classes know too much about behaviours they are not interested in\n",
    "- Hacks are then needed to respect general interface."
   ]
  },
  {
   "attachments": {},
   "cell_type": "markdown",
   "metadata": {},
   "source": [
    "### Example which violates ISP "
   ]
  },
  {
   "cell_type": "code",
   "execution_count": null,
   "metadata": {},
   "outputs": [],
   "source": [
    "from abc import ABC, abstractmethod\n",
    "\n",
    "class Recommender(ABC):\n",
    "    @abstractmethod\n",
    "    def get_closest_items(self, item):\n",
    "        pass\n",
    "    \n",
    "    @abstractmethod\n",
    "    def get_personalised_recommendations(self, user):\n",
    "        pass\n",
    "\n",
    "class CollaborativeFilteringRecommender(Recommender):\n",
    "    def get_closest_items(self, item):\n",
    "        print(f'Recommended closest items')\n",
    "    \n",
    "    def get_personalised_recommendations(self, user):\n",
    "        print(f'Provided closest items')\n",
    "        \n",
    "class DLRecommender(Recommender):\n",
    "    def get_closest_items(self, item):\n",
    "        print(f'Recommended closest items')\n",
    "        \n",
    "    def get_personalised_recommendations(self, user):\n",
    "        print(f'Provided closest items')\n",
    "        \n",
    "class NearestNeighbourRecommender(Recommender):\n",
    "    def get_closest_items(self, item):\n",
    "        print(f'Recommended closest items')\n",
    "        \n",
    "    def get_personalised_recommendations(self, user):\n",
    "        raise Exception(f'Nearest neighbour cannot provide personalised recommendations') # Implements a method that it does not use. (ISP Violation)"
   ]
  },
  {
   "attachments": {},
   "cell_type": "markdown",
   "metadata": {},
   "source": [
    "Recommender interface has 2 main abstract methods\n",
    "- Three recommenders are implementing the two abstractmethods in recommender except NNR uses a method which it cannot actually use.\n",
    "- We can solve this by splitting the general interface into more specific ones."
   ]
  },
  {
   "attachments": {},
   "cell_type": "markdown",
   "metadata": {},
   "source": [
    "Fix:\n",
    "- Create a personalised recommender for CFR and DLR so that the abstract method for NNR is inherites from recommender interface"
   ]
  },
  {
   "attachments": {},
   "cell_type": "markdown",
   "metadata": {},
   "source": [
    "### Augemented ISP compliant class"
   ]
  },
  {
   "cell_type": "code",
   "execution_count": null,
   "metadata": {},
   "outputs": [],
   "source": [
    "from abc import ABC, abstractmethod\n",
    "\n",
    "class Recommender(ABC):\n",
    "    @abstractmethod\n",
    "    def get_closest_items(self, item):\n",
    "        pass\n",
    "    \n",
    "    \n",
    "class PersonalisedRecommender(Recommender):\n",
    "    @abstractmethod\n",
    "    def get_closest_items(self, user):\n",
    "        pass\n",
    "    \n",
    "    \n",
    "\n",
    "class CollaborativeFilteringRecommender(PersonalisedRecommender):\n",
    "    def get_closest_items(self, item):\n",
    "        print(f'Recommended closest items')\n",
    "    \n",
    "    def get_personalised_recommendations(self, user):\n",
    "        print(f'Provided closest items')\n",
    "        \n",
    "        \n",
    "        \n",
    "class DLRecommender(PersonalisedRecommender):\n",
    "    def get_closest_items(self, item):\n",
    "        print(f'Recommended closest items')\n",
    "        \n",
    "    def get_personalised_recommendations(self, user):\n",
    "        print(f'Provided closest items')\n",
    "    \n",
    "    \n",
    "        \n",
    "class NearestNeighbourRecommender(Recommender):\n",
    "    def get_closest_items(self, item):\n",
    "        print(f'Recommended closest items')\n",
    "        "
   ]
  },
  {
   "attachments": {},
   "cell_type": "markdown",
   "metadata": {},
   "source": [
    "### another solution \n",
    "\n",
    "Create two different interfaces at the same level to avoid 3 level of hierachy.\n",
    "Will use multiple inheritence"
   ]
  },
  {
   "cell_type": "code",
   "execution_count": null,
   "metadata": {},
   "outputs": [],
   "source": [
    "from abc import ABC, abstractmethod\n",
    "\n",
    "class PersonalisedRecommender(ABC):\n",
    "    @abstractmethod\n",
    "    def get_personalised_items(self, user):\n",
    "        pass\n",
    "    \n",
    "class ItemRecommender(ABC):\n",
    "    @abstractmethod\n",
    "    def get_closest_items(self, user):\n",
    "        pass\n",
    "    \n",
    "    \n",
    "class CollaborativeFilteringRecommender(PersonalisedRecommender, ItemRecommender): \n",
    "    # Multiple inheritence\n",
    "    def get_closest_items(self, item):\n",
    "        print(f'Recommended closest items')\n",
    "    \n",
    "    def get_personalised_recommendations(self, user):\n",
    "        print(f'Provided closest items')\n",
    "        \n",
    "        \n",
    "        \n",
    "class DLRecommender(PersonalisedRecommender, ItemRecommender):\n",
    "    # Multiple inheritence\n",
    "    def get_closest_items(self, item):\n",
    "        print(f'Recommended closest items')\n",
    "        \n",
    "    def get_personalised_recommendations(self, user):\n",
    "        print(f'Provided closest items')\n",
    "    \n",
    "    \n",
    "        \n",
    "class NearestNeighbourRecommender(ItemRecommender):\n",
    "    def get_closest_items(self, item):\n",
    "        print(f'Recommended closest items')"
   ]
  }
 ],
 "metadata": {
  "kernelspec": {
   "display_name": "Python 3",
   "language": "python",
   "name": "python3"
  },
  "language_info": {
   "name": "python",
   "version": "3.11.1 (main, Dec  7 2022, 00:00:00) [GCC 12.2.1 20221121 (Red Hat 12.2.1-4)]"
  },
  "orig_nbformat": 4,
  "vscode": {
   "interpreter": {
    "hash": "e7370f93d1d0cde622a1f8e1c04877d8463912d04d973331ad4851f04de6915a"
   }
  }
 },
 "nbformat": 4,
 "nbformat_minor": 2
}
