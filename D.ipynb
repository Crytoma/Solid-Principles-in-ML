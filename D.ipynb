{
 "cells": [
  {
   "cell_type": "code",
   "execution_count": null,
   "metadata": {},
   "outputs": [],
   "source": [
    "# :: 11th January 2023 ::"
   ]
  },
  {
   "attachments": {},
   "cell_type": "markdown",
   "metadata": {},
   "source": [
    "SOLID: D = dependency inversion principle:\n",
    "- Classes should depend on abstraction not on concretions\n",
    "  - You want your classes to depend on interfaces not on concrete objects. (Want stable things that don't change.)"
   ]
  },
  {
   "attachments": {},
   "cell_type": "markdown",
   "metadata": {},
   "source": [
    "Spotting DIP Violations\n",
    "- Does a class depend on concrete objects?\n",
    "- Are you instantiating a concrete object in the constructor?"
   ]
  },
  {
   "cell_type": "code",
   "execution_count": 2,
   "metadata": {},
   "outputs": [
    {
     "name": "stdout",
     "output_type": "stream",
     "text": [
      "Evaluating with TensorFlow...\n"
     ]
    }
   ],
   "source": [
    "class TensorFLowEvaluator:\n",
    "    def evaluate(self):\n",
    "        print(f'Evaluating with TensorFlow...')\n",
    "        \n",
    "class MLPipeline:\n",
    "    def __init__(self):\n",
    "        self.evaluator = TensorFLowEvaluator()\n",
    "    \n",
    "    def evaluate(self):\n",
    "        self.evaluator.evaluate()\n",
    "        \n",
    "if __name__ == '__main__':\n",
    "    ml_pipeline = MLPipeline()\n",
    "    ml_pipeline.evaluate()"
   ]
  },
  {
   "attachments": {},
   "cell_type": "markdown",
   "metadata": {},
   "source": [
    "The MLPipeline class depends on the TensorFlowEval within the constructor. These are red flags for the DEPENDENCY INVERSION PRINCIPLE.\n",
    "- MLPipeline owns a tensorflowevaluator\n",
    "  - We assume that we do evaluation using tensorflow\n",
    "  - We want to be not depedant though on this evaluator and the problem comes up as the swap would need to be made inside ML pipeline.\n",
    "\n",
    "We can create an interface between MLPipeline and the specific evaluators as a result as TF and Pytroch evaluators are concrete types"
   ]
  },
  {
   "attachments": {},
   "cell_type": "markdown",
   "metadata": {},
   "source": [
    "### Fixed code to comply with DIP"
   ]
  },
  {
   "cell_type": "code",
   "execution_count": 4,
   "metadata": {},
   "outputs": [
    {
     "name": "stdout",
     "output_type": "stream",
     "text": [
      "Evaluating with PyTorch...\n"
     ]
    }
   ],
   "source": [
    "from abc import ABC, abstractmethod\n",
    "\n",
    "class Evaluator(ABC):\n",
    "    @abstractmethod\n",
    "    def evaluate(self):\n",
    "        pass\n",
    "\n",
    "class TensorFLowEvaluator(Evaluator):\n",
    "    def evaluate(self):\n",
    "        print(f'Evaluating with TensorFlow...')\n",
    "        \n",
    "class PyTorchEvaluator(Evaluator):\n",
    "    def evaluate(self):\n",
    "        print(f'Evaluating with PyTorch...')         \n",
    "        \n",
    "class MLPipeline:\n",
    "    def __init__(self, evaluator: Evaluator):\n",
    "        self.evaluator = evaluator\n",
    "    \n",
    "    def evaluate(self):\n",
    "        self.evaluator.evaluate()\n",
    "\n",
    "\n",
    "        \n",
    "if __name__ == '__main__':\n",
    "    pytorch_evaluator = PyTorchEvaluator()\n",
    "    ml_pipeline = MLPipeline(pytorch_evaluator)\n",
    "    ml_pipeline.evaluate()"
   ]
  },
  {
   "attachments": {},
   "cell_type": "markdown",
   "metadata": {},
   "source": [
    "DIP Main Benefit:\n",
    "- Protect code by making it independent of elements that are fragile / unstable (concretions)\n",
    "- Components are loosely coupled (open to extension, closed to modification)\n",
    "- Makes testing easy"
   ]
  }
 ],
 "metadata": {
  "kernelspec": {
   "display_name": "deep",
   "language": "python",
   "name": "python3"
  },
  "language_info": {
   "codemirror_mode": {
    "name": "ipython",
    "version": 3
   },
   "file_extension": ".py",
   "mimetype": "text/x-python",
   "name": "python",
   "nbconvert_exporter": "python",
   "pygments_lexer": "ipython3",
   "version": "3.9.12"
  },
  "orig_nbformat": 4,
  "vscode": {
   "interpreter": {
    "hash": "5eda43e7ab2201430c00a4c8a5e92c055c09a1789eca9e7eafbe29f8b0774708"
   }
  }
 },
 "nbformat": 4,
 "nbformat_minor": 2
}
