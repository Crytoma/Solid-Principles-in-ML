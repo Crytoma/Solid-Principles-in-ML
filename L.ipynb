{
 "cells": [
  {
   "cell_type": "code",
   "execution_count": null,
   "metadata": {},
   "outputs": [],
   "source": [
    "# :: 10th January 2023"
   ]
  },
  {
   "attachments": {},
   "cell_type": "markdown",
   "metadata": {},
   "source": [
    "SOLID: L = Liskov substiution principle:\n",
    "Definition:\n",
    "- If S is a SUBTYPE of T, then objects of type T may be REPLACED by objects of type S, without distrupting the program.\n",
    "  - Eg if you have a client code with class T then all its substypes can be used interchangeably by the client without harming the functionality of the client program."
   ]
  },
  {
   "attachments": {},
   "cell_type": "markdown",
   "metadata": {},
   "source": [
    "LSP Benefits:\n",
    "- Client code can use any subtypes of a class interchangeably\n",
    "- Client is isolated form the class hierachy of the objects it uses."
   ]
  },
  {
   "attachments": {},
   "cell_type": "markdown",
   "metadata": {},
   "source": [
    "LSP Violation Problems\n",
    "- Client depends on concrete implementations\n",
    "- If a subtype changes, client must be changed\n",
    "  - IF we don't adhere to the principle we violate the open close principle\n",
    "\n",
    "\n",
    "Liskov is a supporter for the open closed principle\n",
    "- If we respect LSP there is a good chance that we respect or adhere to the open close principle."
   ]
  },
  {
   "attachments": {},
   "cell_type": "markdown",
   "metadata": {},
   "source": [
    "Spotting LSP violations\n",
    "- Do subtypes methods have different signatures (do they take different arguments)\n",
    "- Do subtypes methods have different argument types?"
   ]
  },
  {
   "attachments": {},
   "cell_type": "markdown",
   "metadata": {},
   "source": [
    "### Violates Liskov LSP principle\n"
   ]
  },
  {
   "cell_type": "code",
   "execution_count": 6,
   "metadata": {},
   "outputs": [
    {
     "name": "stdout",
     "output_type": "stream",
     "text": [
      "Extracted MFCCs\n"
     ]
    }
   ],
   "source": [
    "from abc import abstractmethod, ABC\n",
    "\n",
    "\n",
    "class Extractor(ABC): # base class that provides an interface (extract)\n",
    "    @abstractmethod\n",
    "    def extract(self, data):\n",
    "        pass\n",
    "    \n",
    "class SpectrogramExtractor(Extractor):\n",
    "    def extract(self, data):\n",
    "        print(f'Extracted spectorgram')\n",
    "    \n",
    "class MFCCExtractor(Extractor):\n",
    "    def extract(self, data, num_mfccs):\n",
    "        print(f'Extracted MFCCs')\n",
    "        \n",
    "class MelSpectrogramExtractor(Extractor):\n",
    "    def extract(self, data):\n",
    "        print('Extracted mel spectrogram')\n",
    "\n",
    "class DLPipeline:\n",
    "    def __init__(self, extractor):\n",
    "        self.extractor = extractor\n",
    "    \n",
    "    def run(self, data):\n",
    "        print(f'Running DL pipeline')\n",
    "        features = self._extract(data) # Private method\n",
    "        # Here implementation of DL steps\n",
    "        \n",
    "    def _extract(self, data): # New design does not have access to the strategies in extractor. It just knows the interface.\n",
    "        self.extractor.extract(data)\n",
    "            \n",
    "if __name__ == '__main__':\n",
    "    dummy_data = [1,2,3]\n",
    "    mfcc_extractor = MFCCExtractor()\n",
    "    mfcc_extractor.extract(dummy_data, 35)"
   ]
  },
  {
   "attachments": {},
   "cell_type": "markdown",
   "metadata": {},
   "source": [
    "Why does the above violate LSP?\n",
    "- Do our methods have the same signatures? same arguments? NO.\n",
    "  - Extract takes 1 argument (data) meanwhile MFCC extractor takes 2 arguments, data and number of mfccs.\n",
    "  - If we do have client code that uses this class it cannot easily swap one concrete extractor for another as they have different signatures.\n"
   ]
  },
  {
   "attachments": {},
   "cell_type": "markdown",
   "metadata": {},
   "source": [
    "### FAKE SOLUTION BELOW FOR POINT ABOVE"
   ]
  },
  {
   "cell_type": "code",
   "execution_count": null,
   "metadata": {},
   "outputs": [],
   "source": [
    "from abc import abstractmethod, ABC\n",
    "\n",
    "\n",
    "class Extractor(ABC): # base class that provides an interface (extract)\n",
    "    @abstractmethod\n",
    "    def extract(self, data, num_coefficients: int):\n",
    "        pass\n",
    "    \n",
    "class MFCCExtractor(Extractor):\n",
    "    def extract(self, data, num_mfccs: int):\n",
    "        print(f'Extracted MFCCs')\n",
    "        \n",
    "class MelSpectrogramExtractor(Extractor):\n",
    "    def extract(self, data, num_mels: int):\n",
    "        print('Extracted mel spectrogram')\n",
    "\n",
    "\n",
    "class DLPipeline:\n",
    "    def __init__(self, extractor):\n",
    "        self.extractor = extractor\n",
    "    \n",
    "    def run(self, data):\n",
    "        print(f'Running DL pipeline')\n",
    "        features = self._extract(data) # Private method\n",
    "        # Here implementation of DL steps\n",
    "        \n",
    "    def _extract(self, data): # New design does not have access to the strategies in extractor. It just knows the interface.\n",
    "        self.extractor.extract(data)\n",
    "            \n",
    "if __name__ == '__main__':\n",
    "    dummy_data = [1,2,3]\n",
    "    mfcc_extractor = MFCCExtractor()\n",
    "    mfcc_extractor.extract(dummy_data, 35)"
   ]
  },
  {
   "attachments": {},
   "cell_type": "markdown",
   "metadata": {},
   "source": [
    "We still violate the principle however as the second argument of mel and mfcc are the same number of arguments in the signatures but however they semantically are different things. \n",
    "- Thus we subtly violate the principle as the semantic level fails."
   ]
  },
  {
   "attachments": {},
   "cell_type": "markdown",
   "metadata": {},
   "source": [
    "### Design that respects Liskov LSP"
   ]
  },
  {
   "cell_type": "code",
   "execution_count": 7,
   "metadata": {},
   "outputs": [
    {
     "name": "stdout",
     "output_type": "stream",
     "text": [
      "Extracted MFCCs\n"
     ]
    }
   ],
   "source": [
    "from abc import abstractmethod, ABC\n",
    "\n",
    "\n",
    "class Extractor(ABC): # base class that provides an interface (extract)\n",
    "    @abstractmethod\n",
    "    def extract(self, data):\n",
    "        pass\n",
    "    \n",
    "class MFCCExtractor(Extractor):\n",
    "    def __init__(self, num_mfccs):\n",
    "        self.num_mfccs = num_mfccs\n",
    "        \n",
    "    def extract(self, data):\n",
    "        print(f'Extracted MFCCs')\n",
    "        \n",
    "class MelSpectrogramExtractor(Extractor):\n",
    "    def __init__(self, num_mels):\n",
    "        self.num_mels = num_mels\n",
    "        \n",
    "    def extract(self, data):\n",
    "        print('Extracted mel spectrogram')\n",
    "\n",
    "\n",
    "if __name__ == '__main__':\n",
    "    dummy_data = [1,2,3]\n",
    "    mfcc_extractor = MFCCExtractor(35)\n",
    "    mfcc_extractor.extract(dummy_data)"
   ]
  },
  {
   "attachments": {},
   "cell_type": "markdown",
   "metadata": {},
   "source": [
    "Now the signatures for all classes takes only data.\n",
    "All the different methods have the same sigs with the same data.\n",
    "As a consequence we assign the number of extra params as an attribute at initialiszation time in the constructors."
   ]
  }
 ],
 "metadata": {
  "kernelspec": {
   "display_name": "deep",
   "language": "python",
   "name": "python3"
  },
  "language_info": {
   "codemirror_mode": {
    "name": "ipython",
    "version": 3
   },
   "file_extension": ".py",
   "mimetype": "text/x-python",
   "name": "python",
   "nbconvert_exporter": "python",
   "pygments_lexer": "ipython3",
   "version": "3.9.12"
  },
  "orig_nbformat": 4,
  "vscode": {
   "interpreter": {
    "hash": "5eda43e7ab2201430c00a4c8a5e92c055c09a1789eca9e7eafbe29f8b0774708"
   }
  }
 },
 "nbformat": 4,
 "nbformat_minor": 2
}
