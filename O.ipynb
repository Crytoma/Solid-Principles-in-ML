{
 "cells": [
  {
   "cell_type": "code",
   "execution_count": null,
   "metadata": {},
   "outputs": [],
   "source": [
    "# :: 10th January 2023"
   ]
  },
  {
   "attachments": {},
   "cell_type": "markdown",
   "metadata": {},
   "source": [
    "SOLID: Open / closed principle:\n",
    "- Software entities (classes, modules, methods, etc.)\n",
    "  - Should be OPEN for extension but\n",
    "  - Should be CLOSED for modification."
   ]
  },
  {
   "attachments": {},
   "cell_type": "markdown",
   "metadata": {},
   "source": [
    "OCP violation Problems:\n",
    "- Classes are tightly couples\n",
    "  - Changing one bit of code affects multiple entities if you have tight coupling\n",
    "\n",
    "- Code is difficult to test in isolation\n",
    "  - As it is hard to seperete code if it is tightly coupled."
   ]
  },
  {
   "attachments": {},
   "cell_type": "markdown",
   "metadata": {},
   "source": [
    "Spotting OCP violations:\n",
    "- Does a class know too much about its dependancies?\n",
    "  - Say you have a class that has an attribute which is an external objects\n",
    "    - if that class knows too much about that objects strategy which it uses to carry out a certain job then you violate the OCP principle."
   ]
  },
  {
   "cell_type": "code",
   "execution_count": 1,
   "metadata": {},
   "outputs": [
    {
     "name": "stdout",
     "output_type": "stream",
     "text": [
      "Running DL pipeline\n",
      "Extracted spectrogram\n"
     ]
    }
   ],
   "source": [
    "class Extractor: # \n",
    "    def extract_spectrogram(self, data):\n",
    "        print(f'Extracted spectrogram')\n",
    "        \n",
    "    def extract_mfcc(self, data):\n",
    "        print(f'Extracted MFCCs')\n",
    "\n",
    "class DLPipeline:\n",
    "    def __init__(self, extractor, feature_type):\n",
    "        self.extractor = extractor\n",
    "        self.feature_type = feature_type\n",
    "    \n",
    "    def run(self, data):\n",
    "        print(f'Running DL pipeline')\n",
    "        features = self._extract(data) # Private method\n",
    "        # Here implementation of DL steps\n",
    "        \n",
    "    def _extract(self, data):\n",
    "        if self.feature_type == 'spectrogram':\n",
    "            self.extractor.extract_spectrogram(data)\n",
    "        elif self.feature_type == 'mfcc':\n",
    "            self.extractor.extract_mfcc(data)\n",
    "            \n",
    "if __name__ == '__main__':\n",
    "    data = [1,2,3]\n",
    "    extractor = Extractor()\n",
    "    dl_pipeline = DLPipeline(extractor, 'spectrogram')\n",
    "    dl_pipeline.run(data)"
   ]
  },
  {
   "attachments": {},
   "cell_type": "markdown",
   "metadata": {},
   "source": [
    "DLPipeline owns Extractor (relationship)\n",
    "\n",
    "Extractor has 2 methods (mfcc extract and spectrogram extraction)\n",
    "-   If we wanted to add another feature such as mel spectrogram extraction\n",
    "    -   we would have to modify two entities rather than adding a new function."
   ]
  },
  {
   "attachments": {},
   "cell_type": "markdown",
   "metadata": {},
   "source": [
    "### DESIGN that violates open close principle"
   ]
  },
  {
   "cell_type": "code",
   "execution_count": null,
   "metadata": {},
   "outputs": [],
   "source": [
    "class Extractor: # \n",
    "    def extract_spectrogram(self, data):\n",
    "        print(f'Extracted spectrogram')\n",
    "        \n",
    "    def extract_mfcc(self, data):\n",
    "        print(f'Extracted MFCCs')\n",
    "        \n",
    "    def extract_mel_spectrogram(self, data): # and add this\n",
    "        print('Extracted mel spectrogram')\n",
    "\n",
    "class DLPipeline:\n",
    "    def __init__(self, extractor, feature_type):\n",
    "        self.extractor = extractor\n",
    "        self.feature_type = feature_type\n",
    "    \n",
    "    def run(self, data):\n",
    "        print(f'Running DL pipeline')\n",
    "        features = self._extract(data) # Private method\n",
    "        # Here implementation of DL steps\n",
    "        \n",
    "    def _extract(self, data):\n",
    "        if self.feature_type == 'spectrogram':\n",
    "            self.extractor.extract_spectrogram(data)\n",
    "        elif self.feature_type == 'mfcc':\n",
    "            self.extractor.extract_mfcc(data)\n",
    "        elif self.feature_type == 'melspectrogram': # need to add this\n",
    "            self.extractor.extract_mel_spectrogram(data)\n",
    "            \n",
    "if __name__ == '__main__':\n",
    "    data = [1,2,3]\n",
    "    extractor = Extractor()\n",
    "    dl_pipeline = DLPipeline(extractor, 'spectrogram')\n",
    "    dl_pipeline.run(data)"
   ]
  },
  {
   "attachments": {},
   "cell_type": "markdown",
   "metadata": {},
   "source": [
    "Above violates open close principle as for adding a new functionality we must change the code in 2 places.\n",
    "\n",
    "Does DL pipeline know too much about extractor? Yep.\n",
    "- Extract private method in extractor the dl pipeline knows too much about what extractor does as the dl pipeline has to know this.\n",
    "\n",
    "We can solve this using polymorphism\n",
    "- Extractor becomes an interface that will have a single method extract that only takes data.\n",
    "- We add concrete classes which inherit from extracvtor and implement the extract class to add more degrees of seperation between all the sub extraction classes.\n",
    "- This makes the extraction classes now implementations aka subclasses / concrete abstractors of extractor interface using different strategies."
   ]
  },
  {
   "attachments": {},
   "cell_type": "markdown",
   "metadata": {},
   "source": [
    "### Design that respects OPEN CLOSE principle"
   ]
  },
  {
   "cell_type": "code",
   "execution_count": 4,
   "metadata": {},
   "outputs": [
    {
     "name": "stdout",
     "output_type": "stream",
     "text": [
      "Running DL pipeline\n",
      "Extracted spectorgram\n"
     ]
    }
   ],
   "source": [
    "from abc import abstractmethod, ABC\n",
    "\n",
    "\n",
    "class Extractor(ABC): # \n",
    "    @abstractmethod\n",
    "    def extract(self, data):\n",
    "        pass\n",
    "    \n",
    "class SpectrogramExtractor(Extractor):\n",
    "    def extract(self, data):\n",
    "        print(f'Extracted spectorgram')\n",
    "    \n",
    "class MFCCExtractor(Extractor):\n",
    "    def extract(self, data):\n",
    "        print(f'Extracted MFCCs')\n",
    "        \n",
    "class MelSpectrogramExtractor(Extractor):\n",
    "    def extract(self, data):\n",
    "        print('Extracted mel spectrogram')\n",
    "\n",
    "        \n",
    "\n",
    "class DLPipeline:\n",
    "    def __init__(self, extractor):\n",
    "        self.extractor = extractor\n",
    "    \n",
    "    def run(self, data):\n",
    "        print(f'Running DL pipeline')\n",
    "        features = self._extract(data) # Private method\n",
    "        # Here implementation of DL steps\n",
    "        \n",
    "    def _extract(self, data): # New design does not have access to the strategies in extractor. It just knows the interface.\n",
    "        self.extractor.extract(data)\n",
    "            \n",
    "if __name__ == '__main__':\n",
    "    data = [1,2,3]\n",
    "    extractor = SpectrogramExtractor()\n",
    "    dl_pipeline = DLPipeline(extractor)\n",
    "    dl_pipeline.run(data)"
   ]
  }
 ],
 "metadata": {
  "kernelspec": {
   "display_name": "deep",
   "language": "python",
   "name": "python3"
  },
  "language_info": {
   "codemirror_mode": {
    "name": "ipython",
    "version": 3
   },
   "file_extension": ".py",
   "mimetype": "text/x-python",
   "name": "python",
   "nbconvert_exporter": "python",
   "pygments_lexer": "ipython3",
   "version": "3.9.12 (main, Apr  5 2022, 06:56:58) \n[GCC 7.5.0]"
  },
  "orig_nbformat": 4,
  "vscode": {
   "interpreter": {
    "hash": "5eda43e7ab2201430c00a4c8a5e92c055c09a1789eca9e7eafbe29f8b0774708"
   }
  }
 },
 "nbformat": 4,
 "nbformat_minor": 2
}
