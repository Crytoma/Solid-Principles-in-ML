{
 "cells": [
  {
   "cell_type": "code",
   "execution_count": 1,
   "metadata": {},
   "outputs": [],
   "source": [
    "# :: 10th January 2023"
   ]
  },
  {
   "attachments": {},
   "cell_type": "markdown",
   "metadata": {},
   "source": [
    "SOLID - \n",
    "Single Responsibility Principle:\n",
    "- A module, a class or a method should be responsible for a SINGLE FUNCTIONALITY of a software system.\n",
    "    - At any level of your code a component should focus on a single functionality.\n",
    "- A class should only have one reason to change \n",
    "  - Reason: actor\n",
    "  - All the changes in the class should be connected with the needs of the actor.\n",
    "  - Actor -> one person or role\n",
    "    - A class that serves a research scientist\n",
    "      - Research scientist : actor ( physical actors )\n",
    "  - Abstract actors\n",
    "    - Prepocessor\n",
    "    - Evaluator\n"
   ]
  },
  {
   "attachments": {},
   "cell_type": "markdown",
   "metadata": {},
   "source": [
    "How to spot SRP violations?\n",
    "- Is the class serving more than one actor?\n",
    "- Do the functionalities of the class serve the same actor?\n",
    "  - is the class focused on the needs of that single actor it is serving?\n",
    "- Is the class responsible for many functionalities?\n",
    "  - Too many etc"
   ]
  },
  {
   "attachments": {},
   "cell_type": "markdown",
   "metadata": {},
   "source": [
    "SRP Violation problems\n",
    "- Classes are entangled:\n",
    "  - change will reverberate across the ML framework.\n",
    "- God classes\n",
    "  - Classes that know too many things and do too many things "
   ]
  },
  {
   "attachments": {},
   "cell_type": "markdown",
   "metadata": {},
   "source": [
    "### Example of a class which violates SRP:"
   ]
  },
  {
   "cell_type": "code",
   "execution_count": 2,
   "metadata": {},
   "outputs": [
    {
     "name": "stdout",
     "output_type": "stream",
     "text": [
      "Features have bee preprocessed.\n",
      "Model has been trained.\n",
      "Model has been evaluated.\n"
     ]
    }
   ],
   "source": [
    "class DLModel:\n",
    "    def preprocess(self, features):\n",
    "        # Here goes the preprocessing code\n",
    "        print(f'Features have bee preprocessed.')\n",
    "        \n",
    "    def train(self, features):\n",
    "        # Here goes the training code\n",
    "        print(f'Model has been trained.')\n",
    "        return features\n",
    "        \n",
    "    def evaluate(self):\n",
    "        # Here goes the evalaution code\n",
    "        print(f'Model has been evaluated.')\n",
    "        \n",
    "if __name__ == '__main__':\n",
    "    features = [[0,1,2], \n",
    "                [1,2,3]]\n",
    "    model = DLModel()\n",
    "    features = model.preprocess(features)\n",
    "    model.train(features)\n",
    "    model.evaluate()\n",
    "    "
   ]
  },
  {
   "attachments": {},
   "cell_type": "markdown",
   "metadata": {},
   "source": [
    "Model Above Violations of SRP:\n",
    "- Model should not be responsible for preprocessing of its inputs\n",
    "  - If you wish to change preprocessing you have to change the dl model class\n",
    "- Model should not be responsible for its evaluation.\n",
    "- \n",
    "DL Model Serves three functions right now\n",
    "1) Eval\n",
    "2) Training\n",
    "3) preprocessing\n",
    "\n",
    "The chance of this class to become very large is quite high."
   ]
  },
  {
   "attachments": {},
   "cell_type": "markdown",
   "metadata": {},
   "source": [
    "### Correct approach below to the DLModel class with SRP contingency."
   ]
  },
  {
   "cell_type": "code",
   "execution_count": 4,
   "metadata": {},
   "outputs": [
    {
     "name": "stdout",
     "output_type": "stream",
     "text": [
      "Features have bee preprocessed.\n",
      "Model has been trained.\n",
      "Model has been evaluated.\n"
     ]
    }
   ],
   "source": [
    "class DLModel:\n",
    "    def train(self, features):\n",
    "        # Here goes the training code\n",
    "        print(f'Model has been trained.')\n",
    "        return features\n",
    "\n",
    "class Preprocessor:\n",
    "    def preprocess(self, features):\n",
    "        # Here goes the preprocessing code\n",
    "        print(f'Features have bee preprocessed.')\n",
    "        \n",
    "class DLEvaluator:\n",
    "    def evaluate(self, model):\n",
    "        # Here goes the evalaution code\n",
    "        print(f'Model has been evaluated.')\n",
    "\n",
    "if __name__ == '__main__':\n",
    "    features = [[0,1,2], \n",
    "                [1,2,3]]\n",
    "    model = DLModel()\n",
    "    preprocessor = Preprocessor()\n",
    "    evaluator = DLEvaluator()\n",
    "    \n",
    "    features = preprocessor.preprocess(features)\n",
    "    model.train(features)\n",
    "    evaluator.evaluate(model)"
   ]
  },
  {
   "attachments": {},
   "cell_type": "markdown",
   "metadata": {},
   "source": [
    "Access to change preprocessor etc can all be accessed independant of the main class."
   ]
  }
 ],
 "metadata": {
  "kernelspec": {
   "display_name": "Python 3",
   "language": "python",
   "name": "python3"
  },
  "language_info": {
   "codemirror_mode": {
    "name": "ipython",
    "version": 3
   },
   "file_extension": ".py",
   "mimetype": "text/x-python",
   "name": "python",
   "nbconvert_exporter": "python",
   "pygments_lexer": "ipython3",
   "version": "3.11.2"
  },
  "orig_nbformat": 4,
  "vscode": {
   "interpreter": {
    "hash": "e7370f93d1d0cde622a1f8e1c04877d8463912d04d973331ad4851f04de6915a"
   }
  }
 },
 "nbformat": 4,
 "nbformat_minor": 2
}
